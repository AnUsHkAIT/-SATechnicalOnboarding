{
  "nbformat": 4,
  "nbformat_minor": 0,
  "metadata": {
    "colab": {
      "provenance": [],
      "toc_visible": true,
      "include_colab_link": true
    },
    "kernelspec": {
      "name": "python3",
      "display_name": "Python 3"
    },
    "language_info": {
      "name": "python"
    }
  },
  "cells": [
    {
      "cell_type": "markdown",
      "metadata": {
        "id": "view-in-github",
        "colab_type": "text"
      },
      "source": [
        "<a href=\"https://colab.research.google.com/github/AnUsHkAIT/-SATechnicalOnboarding/blob/main/Copy_of_%3C23073%3E_%3CAnushka_Gupta%3E_MinorProject.ipynb\" target=\"_parent\"><img src=\"https://colab.research.google.com/assets/colab-badge.svg\" alt=\"Open In Colab\"/></a>"
      ]
    },
    {
      "cell_type": "markdown",
      "source": [
        "# **MINOR PROJECT**\n",
        "\n",
        "---\n",
        "\n",
        "\n",
        "\n",
        "\n"
      ],
      "metadata": {
        "id": "3j27_cT6kBA6"
      }
    },
    {
      "cell_type": "markdown",
      "source": [
        "# **TASK 1** - Exploratory Data Analysis"
      ],
      "metadata": {
        "id": "0cMtLrokuof_"
      }
    },
    {
      "cell_type": "markdown",
      "source": [
        "<-----------------------Question 1----------------------------->"
      ],
      "metadata": {
        "id": "Ec0_MjBDkkJu"
      }
    },
    {
      "cell_type": "code",
      "source": [
        "#----------code"
      ],
      "metadata": {
        "id": "0tywXRCfgDr5"
      },
      "execution_count": null,
      "outputs": []
    },
    {
      "cell_type": "markdown",
      "source": [
        "Summarizing your analysis and observation"
      ],
      "metadata": {
        "id": "DQhXQwp9p263"
      }
    },
    {
      "cell_type": "code",
      "source": [],
      "metadata": {
        "id": "Vo4e7f6PvhVv"
      },
      "execution_count": null,
      "outputs": []
    },
    {
      "cell_type": "code",
      "source": [],
      "metadata": {
        "id": "5Jlm2VnhvhST"
      },
      "execution_count": null,
      "outputs": []
    },
    {
      "cell_type": "markdown",
      "source": [
        "<-----------------------Question 2----------------------------->"
      ],
      "metadata": {
        "id": "cPa96surrJOz"
      }
    },
    {
      "cell_type": "code",
      "source": [
        "#--------------code"
      ],
      "metadata": {
        "id": "xB_9DeBJp2LO"
      },
      "execution_count": null,
      "outputs": []
    },
    {
      "cell_type": "code",
      "source": [
        "# Add more cells if required"
      ],
      "metadata": {
        "id": "4BB9XdGqp2Ie"
      },
      "execution_count": null,
      "outputs": []
    },
    {
      "cell_type": "markdown",
      "source": [
        "Summarizing your analysis and observations"
      ],
      "metadata": {
        "id": "EfjH6OQvv-8K"
      }
    },
    {
      "cell_type": "code",
      "source": [],
      "metadata": {
        "id": "HktaYYj1wHeY"
      },
      "execution_count": null,
      "outputs": []
    },
    {
      "cell_type": "code",
      "source": [],
      "metadata": {
        "id": "GTLBZ96Qwgsj"
      },
      "execution_count": null,
      "outputs": []
    },
    {
      "cell_type": "markdown",
      "source": [
        "<-----------------------Question 3----------------------------->"
      ],
      "metadata": {
        "id": "UmtxT6Y9wbSY"
      }
    },
    {
      "cell_type": "code",
      "source": [
        "#----------code"
      ],
      "metadata": {
        "id": "NnLrdGcRwbSY"
      },
      "execution_count": null,
      "outputs": []
    },
    {
      "cell_type": "markdown",
      "source": [
        "Summarizing your analysis and observation"
      ],
      "metadata": {
        "id": "0aFNKRQSwbSZ"
      }
    },
    {
      "cell_type": "code",
      "source": [],
      "metadata": {
        "id": "6AyPGfHNwbSZ"
      },
      "execution_count": null,
      "outputs": []
    },
    {
      "cell_type": "code",
      "source": [],
      "metadata": {
        "id": "ymmJAoJJwbSZ"
      },
      "execution_count": null,
      "outputs": []
    },
    {
      "cell_type": "markdown",
      "source": [
        "<-----------------------Question 4----------------------------->"
      ],
      "metadata": {
        "id": "VjYUkQCLwbSa"
      }
    },
    {
      "cell_type": "code",
      "source": [
        "#--------------code"
      ],
      "metadata": {
        "id": "CrTTrNYhwbSa"
      },
      "execution_count": null,
      "outputs": []
    },
    {
      "cell_type": "code",
      "source": [
        "# Add more cells if required"
      ],
      "metadata": {
        "id": "8PgE1Q1JwbSa"
      },
      "execution_count": null,
      "outputs": []
    },
    {
      "cell_type": "markdown",
      "source": [
        "Summarizing your analysis and observations"
      ],
      "metadata": {
        "id": "gr4VOY0gwbSa"
      }
    },
    {
      "cell_type": "code",
      "source": [],
      "metadata": {
        "id": "9Ff6vpUywHbB"
      },
      "execution_count": null,
      "outputs": []
    },
    {
      "cell_type": "markdown",
      "source": [
        "<-----------------------Question 5----------------------------->"
      ],
      "metadata": {
        "id": "VbWuvMbqwdgV"
      }
    },
    {
      "cell_type": "code",
      "source": [
        "#----------code"
      ],
      "metadata": {
        "id": "f8V6THB7wdgh"
      },
      "execution_count": null,
      "outputs": []
    },
    {
      "cell_type": "markdown",
      "source": [
        "Summarizing your analysis and observation"
      ],
      "metadata": {
        "id": "m8JUp2kAwdgh"
      }
    },
    {
      "cell_type": "code",
      "source": [],
      "metadata": {
        "id": "WNy3P4C2wdgh"
      },
      "execution_count": null,
      "outputs": []
    },
    {
      "cell_type": "code",
      "source": [],
      "metadata": {
        "id": "kfkABpl6wdgh"
      },
      "execution_count": null,
      "outputs": []
    },
    {
      "cell_type": "markdown",
      "source": [
        "# **TASK 2** - Classification/Regression"
      ],
      "metadata": {
        "id": "Ox8z7yNIwosG"
      }
    },
    {
      "cell_type": "markdown",
      "source": [
        "Perform following steps on the same dataset which you used for EDA.\n",
        "> - Data Preprocessing (as per requirement)\n",
        "> - Feature Engineering\n",
        "> - Split dataset in train-test (80:20 ratio)\n",
        "> - Model selection\n",
        "> - Model training\n",
        "> - Model evaluation\n",
        "> - Fine-tune the Model\n",
        "> - Make predictions\n",
        "\n",
        "Summarize your model's performance by evaluation metrices\n",
        "\n"
      ],
      "metadata": {
        "id": "glXi_qALwz7v"
      }
    },
    {
      "cell_type": "code",
      "source": [],
      "metadata": {
        "id": "J2t6q9hwxCIc"
      },
      "execution_count": null,
      "outputs": []
    }
  ]
}